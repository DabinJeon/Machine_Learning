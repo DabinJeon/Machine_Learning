{
 "cells": [
  {
   "cell_type": "code",
   "execution_count": 16,
   "metadata": {},
   "outputs": [],
   "source": [
    "! pip install tensorflow"
   ]
  },
  {
   "cell_type": "markdown",
   "metadata": {},
   "source": [
    "#### < 패키지 준비 >"
   ]
  },
  {
   "cell_type": "code",
   "execution_count": 17,
   "metadata": {},
   "outputs": [
    {
     "name": "stdout",
     "output_type": "stream",
     "text": [
      "2.3.1\n"
     ]
    }
   ],
   "source": [
    "import tensorflow as tf\n",
    "from tensorflow import keras\n",
    "\n",
    "import pandas as pd\n",
    "import numpy as np\n",
    "\n",
    "print(tf.__version__)"
   ]
  },
  {
   "cell_type": "markdown",
   "metadata": {},
   "source": [
    "#### < 데이터셋 준비 >"
   ]
  },
  {
   "cell_type": "code",
   "execution_count": 2,
   "metadata": {},
   "outputs": [],
   "source": [
    "# 매개변수 num_words=10000은 훈련 데이터에서 가장 많이 등장하는 \n",
    "# 상위 10,000개의 단어를 선택\n",
    "# 데이터 크기를 적당하게 유지하기 위해 드물에 등장하는 단어는 제외"
   ]
  },
  {
   "cell_type": "code",
   "execution_count": 3,
   "metadata": {},
   "outputs": [],
   "source": [
    "imdb = keras.datasets.imdb\n",
    "(train_data, train_labels), (test_data, test_labels) = imdb.load_data(num_words=10000)"
   ]
  },
  {
   "cell_type": "markdown",
   "metadata": {},
   "source": [
    "#### < 데이터 탐색 >"
   ]
  },
  {
   "cell_type": "code",
   "execution_count": 4,
   "metadata": {},
   "outputs": [],
   "source": [
    "#이 데이터셋의 샘플은 전처리된 정수 배열\n",
    "#이 정수는 영화 리뷰에 나오는 단어를 나타냄"
   ]
  },
  {
   "cell_type": "code",
   "execution_count": 5,
   "metadata": {},
   "outputs": [
    {
     "data": {
      "text/plain": [
       "numpy.ndarray"
      ]
     },
     "execution_count": 5,
     "metadata": {},
     "output_type": "execute_result"
    }
   ],
   "source": [
    "type(train_data)"
   ]
  },
  {
   "cell_type": "code",
   "execution_count": 6,
   "metadata": {},
   "outputs": [],
   "source": [
    "# 레이블(label)은 정수 0 또는 1\n",
    "# 0은 부정적인 리뷰, 1은 긍정적인 리뷰"
   ]
  },
  {
   "cell_type": "code",
   "execution_count": 7,
   "metadata": {},
   "outputs": [
    {
     "data": {
      "text/plain": [
       "array([1, 0, 0, ..., 0, 1, 0], dtype=int64)"
      ]
     },
     "execution_count": 7,
     "metadata": {},
     "output_type": "execute_result"
    }
   ],
   "source": [
    "train_labels"
   ]
  },
  {
   "cell_type": "code",
   "execution_count": 8,
   "metadata": {},
   "outputs": [
    {
     "name": "stdout",
     "output_type": "stream",
     "text": [
      "훈련샘플:25000, 레이블:25000\n"
     ]
    }
   ],
   "source": [
    "print(\"훈련샘플:{}, 레이블:{}\".format(len(train_data),len(train_labels)))"
   ]
  },
  {
   "cell_type": "code",
   "execution_count": 9,
   "metadata": {},
   "outputs": [
    {
     "name": "stdout",
     "output_type": "stream",
     "text": [
      "[1, 14, 22, 16, 43, 530, 973, 1622, 1385, 65, 458, 4468, 66, 3941, 4, 173, 36, 256, 5, 25, 100, 43, 838, 112, 50, 670, 2, 9, 35, 480, 284, 5, 150, 4, 172, 112, 167, 2, 336, 385, 39, 4, 172, 4536, 1111, 17, 546, 38, 13, 447, 4, 192, 50, 16, 6, 147, 2025, 19, 14, 22, 4, 1920, 4613, 469, 4, 22, 71, 87, 12, 16, 43, 530, 38, 76, 15, 13, 1247, 4, 22, 17, 515, 17, 12, 16, 626, 18, 2, 5, 62, 386, 12, 8, 316, 8, 106, 5, 4, 2223, 5244, 16, 480, 66, 3785, 33, 4, 130, 12, 16, 38, 619, 5, 25, 124, 51, 36, 135, 48, 25, 1415, 33, 6, 22, 12, 215, 28, 77, 52, 5, 14, 407, 16, 82, 2, 8, 4, 107, 117, 5952, 15, 256, 4, 2, 7, 3766, 5, 723, 36, 71, 43, 530, 476, 26, 400, 317, 46, 7, 4, 2, 1029, 13, 104, 88, 4, 381, 15, 297, 98, 32, 2071, 56, 26, 141, 6, 194, 7486, 18, 4, 226, 22, 21, 134, 476, 26, 480, 5, 144, 30, 5535, 18, 51, 36, 28, 224, 92, 25, 104, 4, 226, 65, 16, 38, 1334, 88, 12, 16, 283, 5, 16, 4472, 113, 103, 32, 15, 16, 5345, 19, 178, 32]\n"
     ]
    }
   ],
   "source": [
    "# 첫번째 리뷰 확인\n",
    "print(train_data[0])"
   ]
  },
  {
   "cell_type": "code",
   "execution_count": 10,
   "metadata": {},
   "outputs": [],
   "source": [
    "# 영화 리뷰들은 길이가 각기 다름\n",
    "# 신경망의 입력 데이터의 길이가 같아야 하므로 이는 추후 조정이 필요"
   ]
  },
  {
   "cell_type": "code",
   "execution_count": 11,
   "metadata": {},
   "outputs": [
    {
     "data": {
      "text/plain": [
       "(218, 141)"
      ]
     },
     "execution_count": 11,
     "metadata": {},
     "output_type": "execute_result"
    }
   ],
   "source": [
    "len(train_data[0]),len(train_data[2])"
   ]
  },
  {
   "cell_type": "markdown",
   "metadata": {},
   "source": [
    "#### < 정수를 단어로 변환 >"
   ]
  },
  {
   "cell_type": "code",
   "execution_count": 13,
   "metadata": {},
   "outputs": [],
   "source": [
    "# 단어와 정수 인덱스를 맵핑한 딕셔너리\n",
    "word_index = imdb.get_word_index()"
   ]
  },
  {
   "cell_type": "code",
   "execution_count": 14,
   "metadata": {},
   "outputs": [],
   "source": [
    "word_index = { k:(v+3) for k,v in word_index.items() }\n",
    "\n",
    "# 처음 몇 개 인덱스는 사전에 정의되어 있음\n",
    "# 아래의 4개 단어를 추가하기 위해 위의 for문으로 인덱스 값을 변경해 준 것\n",
    "word_index[\"<PAD>\"] = 0\n",
    "word_index[\"<START>\"] = 1\n",
    "word_index[\"<UNK>\"] = 2  # unknown\n",
    "word_index[\"<UNUSED>\"] = 3"
   ]
  },
  {
   "cell_type": "code",
   "execution_count": null,
   "metadata": {},
   "outputs": [],
   "source": [
    "# 키 값으로 숫자를 사용하기 위해 key와 value 위치를 바꿔줌"
   ]
  },
  {
   "cell_type": "code",
   "execution_count": 15,
   "metadata": {},
   "outputs": [],
   "source": [
    "reverse_word_index = dict([(value,key) for (key,value) in word_index.items()])"
   ]
  },
  {
   "cell_type": "code",
   "execution_count": null,
   "metadata": {},
   "outputs": [],
   "source": [
    "# get(키값, 디폴트값 설정)"
   ]
  },
  {
   "cell_type": "code",
   "execution_count": 18,
   "metadata": {},
   "outputs": [],
   "source": [
    "def decode_review(text):\n",
    "    return ''.join([reverse_word_index.get(i,\"?\") for i in text])"
   ]
  },
  {
   "cell_type": "code",
   "execution_count": 19,
   "metadata": {},
   "outputs": [
    {
     "data": {
      "text/plain": [
       "\"<START>thisfilmwasjustbrilliantcastinglocationscenerystorydirectioneveryone'sreallysuitedtheparttheyplayedandyoucouldjustimaginebeingthererobert<UNK>isanamazingactorandnowthesamebeingdirector<UNK>fathercamefromthesamescottishislandasmyselfsoilovedthefacttherewasarealconnectionwiththisfilmthewittyremarksthroughoutthefilmweregreatitwasjustbrilliantsomuchthatiboughtthefilmassoonasitwasreleasedfor<UNK>andwouldrecommendittoeveryonetowatchandtheflyfishingwasamazingreallycriedattheenditwassosadandyouknowwhattheysayifyoucryatafilmitmusthavebeengoodandthisdefinitelywasalso<UNK>tothetwolittleboy'sthatplayedthe<UNK>ofnormanandpaultheywerejustbrilliantchildrenareoftenleftoutofthe<UNK>listithinkbecausethestarsthatplaythemallgrownuparesuchabigprofileforthewholefilmbutthesechildrenareamazingandshouldbepraisedforwhattheyhavedonedon'tyouthinkthewholestorywassolovelybecauseitwastrueandwassomeone'slifeafterallthatwassharedwithusall\""
      ]
     },
     "execution_count": 19,
     "metadata": {},
     "output_type": "execute_result"
    }
   ],
   "source": [
    "decode_review(train_data[0])"
   ]
  },
  {
   "cell_type": "markdown",
   "metadata": {},
   "source": [
    "#### < 데이터 준비 >"
   ]
  },
  {
   "cell_type": "code",
   "execution_count": 51,
   "metadata": {},
   "outputs": [],
   "source": [
    "# 리뷰(정수 배열)는 신경망에 주입하기 전에 텐서로 변환되어야 함\n",
    "# 변환 방법에는 몇 가지가 있음"
   ]
  },
  {
   "cell_type": "code",
   "execution_count": 52,
   "metadata": {},
   "outputs": [],
   "source": [
    "# 원핫 인코딩 : 이 방법은 NUM_WORDS * NUM_REVIEWS 크기의 행렬이 필요하므로 메모리를 많이 사용"
   ]
  },
  {
   "cell_type": "code",
   "execution_count": 53,
   "metadata": {},
   "outputs": [],
   "source": [
    "# 정수 배열의 길이가 모두 같도록 패딩 (PADDING)을 추가해 MAX_LENGTH * NUM_REVIEWS 크기의 텐서 생성\n",
    "# 이런 형태으 텐서를 다룰 수 있는 임베딩(EMVEDDING)층을 신경망의 첫번째 층으로 사용가능\n",
    "\n",
    "# 영화 리뷰의 길이가 같아야 하므로 pad_sequence 함수를 사용하여 길이를 맞춤"
   ]
  },
  {
   "cell_type": "code",
   "execution_count": 24,
   "metadata": {},
   "outputs": [],
   "source": [
    "train_data = keras.preprocessing.sequence.pad_sequences(train_data,\n",
    "             value=word_index[\"<PAD>\"], padding='post', maxlen=256)"
   ]
  },
  {
   "cell_type": "code",
   "execution_count": 54,
   "metadata": {},
   "outputs": [],
   "source": [
    "# 이 함수는 num_samples개의 시퀀스(정수 리스트)의 리스트를 \n",
    "# (num_samples, num_timesteps) 형태의 2D Numpy 배열로 변형"
   ]
  },
  {
   "cell_type": "code",
   "execution_count": 55,
   "metadata": {},
   "outputs": [],
   "source": [
    "# num_timesteps 보다 짧은 시퀀스는 그 끝에 value 값이 패딩됨\n",
    "# num_timesteps보다 긴 시퀀스는 원하는 길이에 맞도록 절단됨 \n",
    "\n",
    "# padding과 truncating 인수에 따라 각각 패딩과 절단이 어디서 일어나는지 결정"
   ]
  },
  {
   "cell_type": "code",
   "execution_count": 56,
   "metadata": {},
   "outputs": [],
   "source": [
    "# padding : 각 시퀀스의 처음(pre) 혹은 끝(post)을 패딩\n",
    "# truncating : maxlen보다 큰 시퀀스의 처음(pre) 혹은 끝(post)의 값들을 제거\n",
    "# value: 부동소수점 혹은 문자열, 패딩할 값"
   ]
  },
  {
   "cell_type": "code",
   "execution_count": 25,
   "metadata": {},
   "outputs": [],
   "source": [
    "test_data = keras.preprocessing.sequence.pad_sequences(test_data,\n",
    "            value=word_index[\"<PAD>\"], padding='post', maxlen=256)"
   ]
  },
  {
   "cell_type": "code",
   "execution_count": 57,
   "metadata": {},
   "outputs": [],
   "source": [
    "# 길이가 일정해 진것을 확인"
   ]
  },
  {
   "cell_type": "code",
   "execution_count": 26,
   "metadata": {
    "scrolled": true
   },
   "outputs": [
    {
     "data": {
      "text/plain": [
       "(256, 256)"
      ]
     },
     "execution_count": 26,
     "metadata": {},
     "output_type": "execute_result"
    }
   ],
   "source": [
    "len(train_data[0]), len(train_data[2])"
   ]
  },
  {
   "cell_type": "code",
   "execution_count": 58,
   "metadata": {},
   "outputs": [],
   "source": [
    "# 리뷰의 맨 끝에 0값 (\"<PAD>\")이 입력 된 것을 확인 할 수 있음"
   ]
  },
  {
   "cell_type": "code",
   "execution_count": 27,
   "metadata": {},
   "outputs": [
    {
     "name": "stdout",
     "output_type": "stream",
     "text": [
      "[   1   14   22   16   43  530  973 1622 1385   65  458 4468   66 3941\n",
      "    4  173   36  256    5   25  100   43  838  112   50  670    2    9\n",
      "   35  480  284    5  150    4  172  112  167    2  336  385   39    4\n",
      "  172 4536 1111   17  546   38   13  447    4  192   50   16    6  147\n",
      " 2025   19   14   22    4 1920 4613  469    4   22   71   87   12   16\n",
      "   43  530   38   76   15   13 1247    4   22   17  515   17   12   16\n",
      "  626   18    2    5   62  386   12    8  316    8  106    5    4 2223\n",
      " 5244   16  480   66 3785   33    4  130   12   16   38  619    5   25\n",
      "  124   51   36  135   48   25 1415   33    6   22   12  215   28   77\n",
      "   52    5   14  407   16   82    2    8    4  107  117 5952   15  256\n",
      "    4    2    7 3766    5  723   36   71   43  530  476   26  400  317\n",
      "   46    7    4    2 1029   13  104   88    4  381   15  297   98   32\n",
      " 2071   56   26  141    6  194 7486   18    4  226   22   21  134  476\n",
      "   26  480    5  144   30 5535   18   51   36   28  224   92   25  104\n",
      "    4  226   65   16   38 1334   88   12   16  283    5   16 4472  113\n",
      "  103   32   15   16 5345   19  178   32    0    0    0    0    0    0\n",
      "    0    0    0    0    0    0    0    0    0    0    0    0    0    0\n",
      "    0    0    0    0    0    0    0    0    0    0    0    0    0    0\n",
      "    0    0    0    0]\n"
     ]
    }
   ],
   "source": [
    "print(train_data[0])"
   ]
  },
  {
   "cell_type": "markdown",
   "metadata": {},
   "source": [
    "#### < 모델 구성 >"
   ]
  },
  {
   "cell_type": "code",
   "execution_count": 59,
   "metadata": {},
   "outputs": [],
   "source": [
    "# 신경망은 층을 쌓아서 만들기 때문에 아래의 두 가지를 결정 해야 함\n",
    "# - 모델에서 얼마나 많은 층(layer)을 사용할 것인가\n",
    "# - 각 층에서 얼마나 많은 은닉 유닛 (hidden unit)을 사용할 것인가"
   ]
  },
  {
   "cell_type": "markdown",
   "metadata": {},
   "source": [
    "###### - 예제 -"
   ]
  },
  {
   "cell_type": "code",
   "execution_count": 28,
   "metadata": {},
   "outputs": [],
   "source": [
    "# 입력 크기는 영화리뷰 데이터셋에 적용된 어휘 사전의 크기 (10,000개의 단어)\n",
    "vocab_size = 10000"
   ]
  },
  {
   "cell_type": "code",
   "execution_count": 29,
   "metadata": {},
   "outputs": [],
   "source": [
    "model = keras.Sequential()\n",
    "\n",
    "model.add(keras.layers.Embedding(vocab_size, 16, input_shape=(None,)))\n",
    "model.add(keras.layers.GlobalAveragePooling1D())\n",
    "model.add(keras.layers.Dense(16, activation='relu'))\n",
    "model.add(keras.layers.Dense(1, activation='sigmoid'))"
   ]
  },
  {
   "cell_type": "code",
   "execution_count": 30,
   "metadata": {},
   "outputs": [
    {
     "name": "stdout",
     "output_type": "stream",
     "text": [
      "Model: \"sequential\"\n",
      "_________________________________________________________________\n",
      "Layer (type)                 Output Shape              Param #   \n",
      "=================================================================\n",
      "embedding (Embedding)        (None, None, 16)          160000    \n",
      "_________________________________________________________________\n",
      "global_average_pooling1d (Gl (None, 16)                0         \n",
      "_________________________________________________________________\n",
      "dense (Dense)                (None, 16)                272       \n",
      "_________________________________________________________________\n",
      "dense_1 (Dense)              (None, 1)                 17        \n",
      "=================================================================\n",
      "Total params: 160,289\n",
      "Trainable params: 160,289\n",
      "Non-trainable params: 0\n",
      "_________________________________________________________________\n"
     ]
    }
   ],
   "source": [
    "# 층을 순서대로 쌓아 분류기 (classifier)를 만듦\n",
    "model.summary()"
   ]
  },
  {
   "cell_type": "code",
   "execution_count": 60,
   "metadata": {},
   "outputs": [],
   "source": [
    "# Embedding 층 : 정수로 인코딩된 단어를 입력받고 각 단어 인덱스에 해당하는 임베딩 벡터를 찾음\n",
    "# 이 벡터는 모델이 훈련되면서 학습됨. 이 벡터는 출력 배열에 새로운 차원으로 추가됨\n",
    "# 최종차원은 (batch, sequence, embedding)이 됨"
   ]
  },
  {
   "cell_type": "code",
   "execution_count": 61,
   "metadata": {},
   "outputs": [],
   "source": [
    "# GlobalAveragePooling1D 층 : sequence 차원에 대해 평균을 계산하여 \n",
    "# 각 샘플에 대해 고정된 길이의 출력 벡터를 반환함 \n",
    "# (길이가 다른 입력을 다루는 가장 간단한 방법)"
   ]
  },
  {
   "cell_type": "code",
   "execution_count": 62,
   "metadata": {},
   "outputs": [],
   "source": [
    "# 이 고정길이의 출력 벡터는 16개의 은닉 유닛을 가진 완전연결 층을 거침"
   ]
  },
  {
   "cell_type": "code",
   "execution_count": 63,
   "metadata": {},
   "outputs": [],
   "source": [
    "# 하나의 출력 노드를 가진 완전연결 층\n",
    "# sigmoid 활성화 함수를 사용하여 0과 1 사이의 실수를 출력\n",
    "# 이 값은 확률 또는 신뢰도를 나타냄"
   ]
  },
  {
   "cell_type": "markdown",
   "metadata": {},
   "source": [
    "#### - 은닉 유닛 -"
   ]
  },
  {
   "cell_type": "code",
   "execution_count": 64,
   "metadata": {},
   "outputs": [],
   "source": [
    "# 위 모델에는 입력과 출력 사이에 두개의 중간 또는 \"은닉\"층이 존재\n",
    "# 출력의 개수는 층이 가진 표현공간의 차원이 됨\n",
    "# 즉, 내부표현을 학습할 때, 허용되는 네트워크 자유도의 양을 의미"
   ]
  },
  {
   "cell_type": "code",
   "execution_count": 65,
   "metadata": {},
   "outputs": [],
   "source": [
    "# 모델에 많은 은닉 유닛과 층이 있다면 네트워크는 더 복작합 표현을 학습할 수 있음\n",
    "# 하지만 네트워크 계산 비용이 많이 들고 원치않는 패턴을 학습할 수도 있음"
   ]
  },
  {
   "cell_type": "code",
   "execution_count": 66,
   "metadata": {},
   "outputs": [],
   "source": [
    "# 이런 표현은 훈련데이터의 성능을 향상시키지만 테스트데이터에서는 그렇지 못함\n",
    "# 이를 과대적합 (overfitting) 이라고 함"
   ]
  },
  {
   "cell_type": "markdown",
   "metadata": {},
   "source": [
    "#### - 손실함수 / 옵티마지저 -"
   ]
  },
  {
   "cell_type": "code",
   "execution_count": 67,
   "metadata": {},
   "outputs": [],
   "source": [
    "# 모델이 훈련하려면 손실함수와 옵티마이저가 필요\n",
    "# 이 예제는 이진분류 문제이고 모델이 확률을 출력하므로 \n",
    "# (출력측의 유닛이 하나이고 sigmoid 함수를 사용)\n",
    "# binary_crossentropy 손실 함수를 사용"
   ]
  },
  {
   "cell_type": "code",
   "execution_count": 68,
   "metadata": {},
   "outputs": [],
   "source": [
    "# 다른 손실함수 mean_squard_error(평균제곱오차) 손실함수를 선택할 수도 있음\n",
    "# 하지만 binary_crossentropy가 확률을 다루는데 적합\n",
    "# 이 함수는 확률분포 간의 거리를 측정\n",
    "# (여기서는 정답인 타깃 분포와 예측분포 사이의 거리를 의미)"
   ]
  },
  {
   "cell_type": "code",
   "execution_count": 31,
   "metadata": {},
   "outputs": [],
   "source": [
    "model.compile(optimizer='adam', loss='binary_crossentropy', metrics=[\"accuracy\"])"
   ]
  },
  {
   "cell_type": "markdown",
   "metadata": {},
   "source": [
    "#### < 검증 세트 만들기>"
   ]
  },
  {
   "cell_type": "code",
   "execution_count": 36,
   "metadata": {},
   "outputs": [],
   "source": [
    "x_val = train_data[:10000]\n",
    "partial_x_train = train_data[10000:]"
   ]
  },
  {
   "cell_type": "code",
   "execution_count": 34,
   "metadata": {},
   "outputs": [],
   "source": [
    "y_val = train_labels[:10000]\n",
    "partial_y_train = train_labels[10000:]"
   ]
  },
  {
   "cell_type": "markdown",
   "metadata": {},
   "source": [
    "#### < 모델 훈련 >"
   ]
  },
  {
   "cell_type": "code",
   "execution_count": 69,
   "metadata": {},
   "outputs": [],
   "source": [
    "# 이 모델을 512개의 샘플로 이루어진 미니배치(mini-batch)에서 40번의 에포크(epoch) 동안 훈련\n",
    "# x_train과 y_train 텐서에 있는 모든 샘플에 대해 40번 반복"
   ]
  },
  {
   "cell_type": "code",
   "execution_count": 39,
   "metadata": {},
   "outputs": [
    {
     "name": "stdout",
     "output_type": "stream",
     "text": [
      "Epoch 1/40\n",
      "30/30 [==============================] - 1s 27ms/step - loss: 0.6921 - accuracy: 0.5960 - val_loss: 0.6901 - val_accuracy: 0.6770\n",
      "Epoch 2/40\n",
      "30/30 [==============================] - 1s 21ms/step - loss: 0.6861 - accuracy: 0.7178 - val_loss: 0.6819 - val_accuracy: 0.7381\n",
      "Epoch 3/40\n",
      "30/30 [==============================] - 1s 23ms/step - loss: 0.6739 - accuracy: 0.7523 - val_loss: 0.6668 - val_accuracy: 0.7494\n",
      "Epoch 4/40\n",
      "30/30 [==============================] - 1s 22ms/step - loss: 0.6531 - accuracy: 0.7718 - val_loss: 0.6432 - val_accuracy: 0.7657\n",
      "Epoch 5/40\n",
      "30/30 [==============================] - 1s 22ms/step - loss: 0.6225 - accuracy: 0.7913 - val_loss: 0.6109 - val_accuracy: 0.7761\n",
      "Epoch 6/40\n",
      "30/30 [==============================] - 1s 23ms/step - loss: 0.5837 - accuracy: 0.8031 - val_loss: 0.5728 - val_accuracy: 0.7834\n",
      "Epoch 7/40\n",
      "30/30 [==============================] - 1s 23ms/step - loss: 0.5388 - accuracy: 0.8249 - val_loss: 0.5301 - val_accuracy: 0.8108\n",
      "Epoch 8/40\n",
      "30/30 [==============================] - 1s 23ms/step - loss: 0.4923 - accuracy: 0.8397 - val_loss: 0.4888 - val_accuracy: 0.8273\n",
      "Epoch 9/40\n",
      "30/30 [==============================] - 1s 22ms/step - loss: 0.4479 - accuracy: 0.8559 - val_loss: 0.4514 - val_accuracy: 0.8388\n",
      "Epoch 10/40\n",
      "30/30 [==============================] - 1s 23ms/step - loss: 0.4086 - accuracy: 0.8652 - val_loss: 0.4193 - val_accuracy: 0.8481\n",
      "Epoch 11/40\n",
      "30/30 [==============================] - 1s 21ms/step - loss: 0.3739 - accuracy: 0.8765 - val_loss: 0.3919 - val_accuracy: 0.8557\n",
      "Epoch 12/40\n",
      "30/30 [==============================] - 1s 23ms/step - loss: 0.3439 - accuracy: 0.8860 - val_loss: 0.3711 - val_accuracy: 0.8578\n",
      "Epoch 13/40\n",
      "30/30 [==============================] - 1s 21ms/step - loss: 0.3193 - accuracy: 0.8923 - val_loss: 0.3528 - val_accuracy: 0.8665\n",
      "Epoch 14/40\n",
      "30/30 [==============================] - 1s 22ms/step - loss: 0.2986 - accuracy: 0.8973 - val_loss: 0.3390 - val_accuracy: 0.8708\n",
      "Epoch 15/40\n",
      "30/30 [==============================] - 1s 22ms/step - loss: 0.2799 - accuracy: 0.9039 - val_loss: 0.3284 - val_accuracy: 0.8737\n",
      "Epoch 16/40\n",
      "30/30 [==============================] - 1s 22ms/step - loss: 0.2643 - accuracy: 0.9092 - val_loss: 0.3193 - val_accuracy: 0.8764\n",
      "Epoch 17/40\n",
      "30/30 [==============================] - 1s 21ms/step - loss: 0.2501 - accuracy: 0.9125 - val_loss: 0.3113 - val_accuracy: 0.8780\n",
      "Epoch 18/40\n",
      "30/30 [==============================] - 1s 21ms/step - loss: 0.2376 - accuracy: 0.9177 - val_loss: 0.3071 - val_accuracy: 0.8788\n",
      "Epoch 19/40\n",
      "30/30 [==============================] - 1s 21ms/step - loss: 0.2256 - accuracy: 0.9222 - val_loss: 0.3003 - val_accuracy: 0.8799\n",
      "Epoch 20/40\n",
      "30/30 [==============================] - 1s 20ms/step - loss: 0.2147 - accuracy: 0.9252 - val_loss: 0.2966 - val_accuracy: 0.8825\n",
      "Epoch 21/40\n",
      "30/30 [==============================] - 1s 22ms/step - loss: 0.2048 - accuracy: 0.9293 - val_loss: 0.2931 - val_accuracy: 0.8833\n",
      "Epoch 22/40\n",
      "30/30 [==============================] - 1s 21ms/step - loss: 0.1955 - accuracy: 0.9334 - val_loss: 0.2930 - val_accuracy: 0.8798\n",
      "Epoch 23/40\n",
      "30/30 [==============================] - 1s 22ms/step - loss: 0.1884 - accuracy: 0.9358 - val_loss: 0.2883 - val_accuracy: 0.8842\n",
      "Epoch 24/40\n",
      "30/30 [==============================] - 1s 21ms/step - loss: 0.1790 - accuracy: 0.9409 - val_loss: 0.2872 - val_accuracy: 0.8839\n",
      "Epoch 25/40\n",
      "30/30 [==============================] - 1s 22ms/step - loss: 0.1714 - accuracy: 0.9447 - val_loss: 0.2859 - val_accuracy: 0.8841\n",
      "Epoch 26/40\n",
      "30/30 [==============================] - 1s 22ms/step - loss: 0.1643 - accuracy: 0.9471 - val_loss: 0.2856 - val_accuracy: 0.8859\n",
      "Epoch 27/40\n",
      "30/30 [==============================] - 1s 21ms/step - loss: 0.1579 - accuracy: 0.9496 - val_loss: 0.2851 - val_accuracy: 0.8854\n",
      "Epoch 28/40\n",
      "30/30 [==============================] - 1s 22ms/step - loss: 0.1514 - accuracy: 0.9528 - val_loss: 0.2863 - val_accuracy: 0.8845\n",
      "Epoch 29/40\n",
      "30/30 [==============================] - 1s 21ms/step - loss: 0.1452 - accuracy: 0.9557 - val_loss: 0.2861 - val_accuracy: 0.8857\n",
      "Epoch 30/40\n",
      "30/30 [==============================] - 1s 22ms/step - loss: 0.1392 - accuracy: 0.9579 - val_loss: 0.2883 - val_accuracy: 0.8860\n",
      "Epoch 31/40\n",
      "30/30 [==============================] - 1s 21ms/step - loss: 0.1342 - accuracy: 0.9597 - val_loss: 0.2884 - val_accuracy: 0.8858\n",
      "Epoch 32/40\n",
      "30/30 [==============================] - 1s 22ms/step - loss: 0.1286 - accuracy: 0.9635 - val_loss: 0.2903 - val_accuracy: 0.8847\n",
      "Epoch 33/40\n",
      "30/30 [==============================] - 1s 21ms/step - loss: 0.1237 - accuracy: 0.9639 - val_loss: 0.2917 - val_accuracy: 0.8848\n",
      "Epoch 34/40\n",
      "30/30 [==============================] - 1s 21ms/step - loss: 0.1191 - accuracy: 0.9666 - val_loss: 0.2937 - val_accuracy: 0.8858\n",
      "Epoch 35/40\n",
      "30/30 [==============================] - 1s 21ms/step - loss: 0.1144 - accuracy: 0.9677 - val_loss: 0.2956 - val_accuracy: 0.8841\n",
      "Epoch 36/40\n",
      "30/30 [==============================] - 1s 21ms/step - loss: 0.1101 - accuracy: 0.9696 - val_loss: 0.2988 - val_accuracy: 0.8855\n",
      "Epoch 37/40\n",
      "30/30 [==============================] - 1s 22ms/step - loss: 0.1059 - accuracy: 0.9713 - val_loss: 0.3014 - val_accuracy: 0.8835\n",
      "Epoch 38/40\n",
      "30/30 [==============================] - 1s 21ms/step - loss: 0.1018 - accuracy: 0.9721 - val_loss: 0.3046 - val_accuracy: 0.8838\n",
      "Epoch 39/40\n",
      "30/30 [==============================] - 1s 22ms/step - loss: 0.0979 - accuracy: 0.9739 - val_loss: 0.3072 - val_accuracy: 0.8823\n",
      "Epoch 40/40\n",
      "30/30 [==============================] - 1s 21ms/step - loss: 0.0941 - accuracy: 0.9755 - val_loss: 0.3101 - val_accuracy: 0.8822\n"
     ]
    }
   ],
   "source": [
    "history = model.fit(partial_x_train, partial_y_train, epochs=40, batch_size=512,\n",
    "                   validation_data=(x_val,y_val), verbose=1)"
   ]
  },
  {
   "cell_type": "code",
   "execution_count": 70,
   "metadata": {},
   "outputs": [],
   "source": [
    "# 훈련하는 동안 10000개의 검정 세트에서 손식과 정확도를 모니터링"
   ]
  },
  {
   "cell_type": "markdown",
   "metadata": {},
   "source": [
    "#### < 모델 평가 >"
   ]
  },
  {
   "cell_type": "code",
   "execution_count": 40,
   "metadata": {},
   "outputs": [
    {
     "name": "stdout",
     "output_type": "stream",
     "text": [
      "782/782 - 1s - loss: 0.3302 - accuracy: 0.8729\n",
      "[0.33023950457572937, 0.8728799819946289]\n"
     ]
    }
   ],
   "source": [
    "result = model.evaluate(test_data,test_labels, verbose=2)\n",
    "print(result)"
   ]
  },
  {
   "cell_type": "code",
   "execution_count": 71,
   "metadata": {},
   "outputs": [],
   "source": [
    "# 모델의 성능확인 -> 2개의 값 (손실, 정확도) 반환"
   ]
  },
  {
   "cell_type": "markdown",
   "metadata": {},
   "source": [
    "#### < 정확도/손실 그래프 >"
   ]
  },
  {
   "cell_type": "code",
   "execution_count": 72,
   "metadata": {},
   "outputs": [],
   "source": [
    "# model.fit()은 history 객체를 반환 (여기에 훈련하는 기간동안 담긴 딕셔너리가 있음)"
   ]
  },
  {
   "cell_type": "code",
   "execution_count": 41,
   "metadata": {},
   "outputs": [
    {
     "data": {
      "text/plain": [
       "dict_keys(['loss', 'accuracy', 'val_loss', 'val_accuracy'])"
      ]
     },
     "execution_count": 41,
     "metadata": {},
     "output_type": "execute_result"
    }
   ],
   "source": [
    "history_dict = history.history\n",
    "history_dict.keys()"
   ]
  },
  {
   "cell_type": "code",
   "execution_count": 73,
   "metadata": {},
   "outputs": [],
   "source": [
    "# 위 네개의 항목은 훈련과 검증 단계에서 모니터링을 하는 지표들임"
   ]
  },
  {
   "cell_type": "code",
   "execution_count": 74,
   "metadata": {},
   "outputs": [],
   "source": [
    "import matplotlib.pyplot as plt"
   ]
  },
  {
   "cell_type": "code",
   "execution_count": 43,
   "metadata": {},
   "outputs": [],
   "source": [
    "acc = history_dict['accuracy']\n",
    "val_acc = history_dict['val_accuracy']\n",
    "loss = history_dict['loss']\n",
    "val_loss = history_dict['val_loss']"
   ]
  },
  {
   "cell_type": "code",
   "execution_count": 44,
   "metadata": {},
   "outputs": [],
   "source": [
    "epochs = range(1, len(acc)+1)"
   ]
  },
  {
   "cell_type": "code",
   "execution_count": 45,
   "metadata": {},
   "outputs": [
    {
     "data": {
      "image/png": "[encoded data removed]",
      "text/plain": [
       "<Figure size 432x288 with 1 Axes>"
      ]
     },
     "metadata": {
      "needs_background": "light"
     },
     "output_type": "display_data"
    }
   ],
   "source": [
    "plt.plot(epochs, loss, 'bo', label=\"Training Loss\") # label -> 범례 이름\n",
    "plt.plot(epochs, val_loss, 'b', label=\"Validation Loss\")\n",
    "\n",
    "# 'bo'는 파란 점을 의미 / 'b'는 파란 실선을 의미\n",
    "\n",
    "plt.title(\"Traning and Validation Loss\") # 그래프 제목\n",
    "plt.xlabel(\"Epochs\") # x축 이름\n",
    "plt.ylabel('Loss')   # y축 이름\n",
    "plt.legend()\n",
    "\n",
    "plt.show()"
   ]
  },
  {
   "cell_type": "code",
   "execution_count": 46,
   "metadata": {},
   "outputs": [
    {
     "data": {
      "text/plain": [
       "<Figure size 432x288 with 0 Axes>"
      ]
     },
     "metadata": {},
     "output_type": "display_data"
    }
   ],
   "source": [
    "plt.clf() # 그래프 초기화"
   ]
  },
  {
   "cell_type": "code",
   "execution_count": 47,
   "metadata": {},
   "outputs": [
    {
     "data": {
      "image/png": "[encoded data removed]",
      "text/plain": [
       "<Figure size 432x288 with 1 Axes>"
      ]
     },
     "metadata": {
      "needs_background": "light"
     },
     "output_type": "display_data"
    }
   ],
   "source": [
    "plt.plot(epochs, acc, 'bo', label='Training acc')\n",
    "plt.plot(epochs, val_acc, 'b', label='Validation acc')\n",
    "\n",
    "plt.title('Training and validation accuracy')\n",
    "plt.xlabel('Epochs')\n",
    "plt.ylabel('Accuracy')\n",
    "plt.legend()\n",
    "\n",
    "plt.show()"
   ]
  },
  {
   "cell_type": "code",
   "execution_count": 48,
   "metadata": {},
   "outputs": [],
   "source": [
    "# 점선 : 훈련 손실과 훈련 정확도\n",
    "# 실선 : 검증 손실과 검증 정확도"
   ]
  },
  {
   "cell_type": "code",
   "execution_count": 49,
   "metadata": {},
   "outputs": [],
   "source": [
    "# 훈련 손실은 에포크마다 감소하고 훈련 정확도는 증가\n",
    "# -> 경사하강법 최적화를 사용할 때면 볼 수 있는 현상\n",
    "# -> 매 반복마다 최적화 대상의 값을 최소화 함"
   ]
  },
  {
   "cell_type": "code",
   "execution_count": 50,
   "metadata": {},
   "outputs": [],
   "source": [
    "# 하지만 검증 손실과 검증 정확도에서는 그렇지 못함\n",
    "# 약 20번째 에포크 이후가 최적점인 것으로 보임\n",
    "# -> 이는 과대적합 때문임\n",
    "\n",
    "# 이 지점 부터는 모델이 과도하게 최적화 되어 \n",
    "# 테스트 데이터에서 일반화 되기 어려운 훈련 데이터의 특정 표현을 학습함\n",
    "\n",
    "# 과대적합을 막기 위해 단순히 20번째 에포크 근처에서 훈련을 멈출 수 있음\n",
    "# 콜백 (callback)을 사용하여 자동으로 이를 가능하게 할 수 있음"
   ]
  }
 ],
 "metadata": {
  "kernelspec": {
   "display_name": "Python 3",
   "language": "python",
   "name": "python3"
  },
  "language_info": {
   "codemirror_mode": {
    "name": "ipython",
    "version": 3
   },
   "file_extension": ".py",
   "mimetype": "text/x-python",
   "name": "python",
   "nbconvert_exporter": "python",
   "pygments_lexer": "ipython3",
   "version": "3.8.3"
  }
 },
 "nbformat": 4,
 "nbformat_minor": 4
}
