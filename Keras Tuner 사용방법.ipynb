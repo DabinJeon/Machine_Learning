{
 "cells": [
  {
   "cell_type": "markdown",
   "metadata": {},
   "source": [
    "### [Keras Tuner]"
   ]
  },
  {
   "cell_type": "code",
   "execution_count": 1,
   "metadata": {},
   "outputs": [],
   "source": [
    "# 텐서플로를 위한 최적의 파라미터 세트를 선택하는데 도움을 주는 라이브러리"
   ]
  },
  {
   "cell_type": "code",
   "execution_count": 2,
   "metadata": {},
   "outputs": [],
   "source": [
    "# 기계학습 (ML) 응용 프로그램에 대한 파라미터의 오른쪽 집합을 선택하는 과정은\n",
    "# hyperparameter 조정 또는 hypertuning 이라고 함"
   ]
  },
  {
   "cell_type": "code",
   "execution_count": 3,
   "metadata": {},
   "outputs": [],
   "source": [
    "# 하이퍼 파라미터는 학습 프로세스와 ML 모델의 토폴로지를 제어하는 변수\n",
    "\n",
    "# 이러한 변수는 훈련 프로세스 도안 일정하게 유지되며\n",
    "# ML 프로그램의 성능에 직접적인 영향을 미침"
   ]
  },
  {
   "cell_type": "code",
   "execution_count": 4,
   "metadata": {},
   "outputs": [],
   "source": [
    "# 하이퍼 파라미터에는 2가지 유형이 있음\n",
    "\n",
    "# 1. 모델 하이퍼 파라미터\n",
    "# 2. 알고리즘 하이퍼 파라미터"
   ]
  },
  {
   "cell_type": "markdown",
   "metadata": {},
   "source": [
    "#### < 설정 >"
   ]
  },
  {
   "cell_type": "code",
   "execution_count": 5,
   "metadata": {},
   "outputs": [],
   "source": [
    "import tensorflow as tf\n",
    "from tensorflow import keras\n",
    "\n",
    "import IPython"
   ]
  },
  {
   "cell_type": "code",
   "execution_count": 6,
   "metadata": {},
   "outputs": [],
   "source": [
    "# Keras Tuner를 설치하고 가져오기"
   ]
  },
  {
   "cell_type": "code",
   "execution_count": 7,
   "metadata": {},
   "outputs": [],
   "source": [
    "! pip install -q -U keras-tuner"
   ]
  },
  {
   "cell_type": "code",
   "execution_count": 8,
   "metadata": {},
   "outputs": [],
   "source": [
    "import kerastuner as kt"
   ]
  },
  {
   "cell_type": "markdown",
   "metadata": {},
   "source": [
    "#### < 데이터셋 다운로드 >"
   ]
  },
  {
   "cell_type": "code",
   "execution_count": 9,
   "metadata": {},
   "outputs": [],
   "source": [
    "(img_train, label_train), (img_test, label_test) = keras.datasets.fashion_mnist.load_data()"
   ]
  },
  {
   "cell_type": "code",
   "execution_count": 10,
   "metadata": {},
   "outputs": [],
   "source": [
    "# 0~1 사이의 값으로 normalization"
   ]
  },
  {
   "cell_type": "code",
   "execution_count": 11,
   "metadata": {},
   "outputs": [],
   "source": [
    "img_train = img_train.astype('float32') / 255.0\n",
    "img_test = img_test.astype('float32') / 255.0"
   ]
  },
  {
   "cell_type": "markdown",
   "metadata": {},
   "source": [
    "#### < 모델 정의 >"
   ]
  },
  {
   "cell_type": "code",
   "execution_count": 12,
   "metadata": {},
   "outputs": [],
   "source": [
    "# 하이퍼 튜닝을 위한 모델일 빌드 할 때, \n",
    "# 모델 아키텍쳐 외에 하이퍼 파라미터 검색 공간도 정의"
   ]
  },
  {
   "cell_type": "code",
   "execution_count": 13,
   "metadata": {},
   "outputs": [],
   "source": [
    "# 두 가지 접근방식을 통해 하이퍼 모델을 정의할 수 있음\n",
    "\n",
    "# - 모델 빌더 기능을 사용\n",
    "# - 서브 클래싱으로 HperModel Keras 튜너 API 클래스 사용"
   ]
  },
  {
   "cell_type": "code",
   "execution_count": 14,
   "metadata": {},
   "outputs": [],
   "source": [
    "# 모델 작성기 함수를 사용하여 이미지 분류 모델을 정의해 보기\n",
    "\n",
    "# 모델 작성기 함수는 컴파일 된 모델을 반환하고\n",
    "# 인라인으로 정의한 하이퍼 파라미터를 사용하여 모델을 하이퍼 튜닝함"
   ]
  },
  {
   "cell_type": "code",
   "execution_count": 15,
   "metadata": {},
   "outputs": [],
   "source": [
    "def model_builder(hp):\n",
    "  model = keras.Sequential()\n",
    "  model.add(keras.layers.Flatten(input_shape=(28, 28)))\n",
    "\n",
    "  # 첫번째 증의 유닛 숫자를 tune(조정) \n",
    "  # 32 ~ 512 사이의 옵션 값을 선택\n",
    "  hp_units = hp.Int('units', min_value = 32, max_value = 512, step = 32)\n",
    "  \n",
    "  model.add(keras.layers.Dense(units = hp_units, activation = 'relu'))\n",
    "  model.add(keras.layers.Dense(10))\n",
    "\n",
    "  # 옵티마이저를 위해 학습률을 조정\n",
    "  # 0.01, 0.001, 0.0001옵션 값을 선택\n",
    "  hp_learning_rate = hp.Choice('learning_rate', values = [1e-2, 1e-3, 1e-4]) \n",
    "\n",
    "  model.compile(optimizer = keras.optimizers.Adam(learning_rate = hp_learning_rate),\n",
    "                loss = keras.losses.SparseCategoricalCrossentropy(from_logits = True), \n",
    "                metrics = ['accuracy'])\n",
    "\n",
    "  return model"
   ]
  },
  {
   "cell_type": "code",
   "execution_count": 16,
   "metadata": {},
   "outputs": [],
   "source": [
    "# 튜너를 인스턴스화 하고 튜닝을 수행"
   ]
  },
  {
   "cell_type": "code",
   "execution_count": 17,
   "metadata": {},
   "outputs": [],
   "source": [
    "# Hyperband Tuner에는 네 가지 튜더가 있으며 각각 아래와 같음\n",
    "# RandomSearch , Hyperband , BayesianOptimization, Sklearn "
   ]
  },
  {
   "cell_type": "code",
   "execution_count": 18,
   "metadata": {},
   "outputs": [],
   "source": [
    "# 하이퍼 밴드 튜너를 인스턴스화하려면 하이퍼 모델, objective, \n",
    "# max_epochs (max_epochs)를 지정해야 함"
   ]
  },
  {
   "cell_type": "code",
   "execution_count": 19,
   "metadata": {},
   "outputs": [],
   "source": [
    "# 하이퍼밴드 튜너를 생성\n",
    "tuner = kt.Hyperband(model_builder,objective = 'val_accuracy', max_epochs = 10,\n",
    "                     factor = 3,directory = 'my_dir', project_name = 'intro_to_kt')"
   ]
  },
  {
   "cell_type": "code",
   "execution_count": 20,
   "metadata": {},
   "outputs": [],
   "source": [
    "# 하이퍼 파라미터 검색을 실행하기 전에 \n",
    "# 모든 학습 단계가 끝날 때 학습 출력을 지우는 콜백을 정의"
   ]
  },
  {
   "cell_type": "code",
   "execution_count": 21,
   "metadata": {},
   "outputs": [],
   "source": [
    "class ClearTrainingOutput(tf.keras.callbacks.Callback):\n",
    "  def on_train_end(*args, **kwargs):\n",
    "    IPython.display.clear_output(wait = True)"
   ]
  },
  {
   "cell_type": "code",
   "execution_count": 22,
   "metadata": {
    "collapsed": true
   },
   "outputs": [
    {
     "name": "stdout",
     "output_type": "stream",
     "text": [
      "Trial 30 Complete [00h 01m 02s]\n",
      "val_accuracy: 0.883899986743927\n",
      "\n",
      "Best val_accuracy So Far: 0.8841999769210815\n",
      "Total elapsed time: 00h 08m 48s\n",
      "INFO:tensorflow:Oracle triggered exit\n"
     ]
    }
   ],
   "source": [
    "# 초 매개변수 검색을 실해\n",
    "tuner.search(img_train, label_train, epochs = 10, \n",
    "             validation_data = (img_test, label_test), \n",
    "             callbacks = [ClearTrainingOutput()])"
   ]
  },
  {
   "cell_type": "code",
   "execution_count": 24,
   "metadata": {},
   "outputs": [],
   "source": [
    "# 하이퍼 파리미터를 가져오기\n",
    "best_hps = tuner.get_best_hyperparameters(num_trials = 1)[0]"
   ]
  },
  {
   "cell_type": "code",
   "execution_count": 25,
   "metadata": {},
   "outputs": [],
   "source": [
    "# 최적의 파라미터로 모델을 다시 훈련시키기\n",
    "model = tuner.hypermodel.build(best_hps)"
   ]
  },
  {
   "cell_type": "code",
   "execution_count": 26,
   "metadata": {},
   "outputs": [
    {
     "name": "stdout",
     "output_type": "stream",
     "text": [
      "Epoch 1/10\n",
      "1875/1875 [==============================] - 3s 2ms/step - loss: 0.4893 - accuracy: 0.8261 - val_loss: 0.4200 - val_accuracy: 0.8525\n",
      "Epoch 2/10\n",
      "1875/1875 [==============================] - 3s 2ms/step - loss: 0.3662 - accuracy: 0.8666 - val_loss: 0.3801 - val_accuracy: 0.8614\n",
      "Epoch 3/10\n",
      "1875/1875 [==============================] - 3s 2ms/step - loss: 0.3275 - accuracy: 0.8790 - val_loss: 0.3682 - val_accuracy: 0.8618\n",
      "Epoch 4/10\n",
      "1875/1875 [==============================] - 3s 2ms/step - loss: 0.3031 - accuracy: 0.8880 - val_loss: 0.3672 - val_accuracy: 0.8691\n",
      "Epoch 5/10\n",
      "1875/1875 [==============================] - 3s 2ms/step - loss: 0.2877 - accuracy: 0.8935 - val_loss: 0.3613 - val_accuracy: 0.8714\n",
      "Epoch 6/10\n",
      "1875/1875 [==============================] - 3s 2ms/step - loss: 0.2735 - accuracy: 0.8979 - val_loss: 0.3304 - val_accuracy: 0.8793\n",
      "Epoch 7/10\n",
      "1875/1875 [==============================] - 3s 2ms/step - loss: 0.2588 - accuracy: 0.9030 - val_loss: 0.3331 - val_accuracy: 0.8829\n",
      "Epoch 8/10\n",
      "1875/1875 [==============================] - 3s 2ms/step - loss: 0.2472 - accuracy: 0.9079 - val_loss: 0.3330 - val_accuracy: 0.8852\n",
      "Epoch 9/10\n",
      "1875/1875 [==============================] - 3s 2ms/step - loss: 0.2388 - accuracy: 0.9103 - val_loss: 0.3351 - val_accuracy: 0.8829\n",
      "Epoch 10/10\n",
      "1875/1875 [==============================] - 3s 2ms/step - loss: 0.2299 - accuracy: 0.9131 - val_loss: 0.3526 - val_accuracy: 0.8806\n"
     ]
    },
    {
     "data": {
      "text/plain": [
       "<tensorflow.python.keras.callbacks.History at 0x9f34c08a90>"
      ]
     },
     "execution_count": 26,
     "metadata": {},
     "output_type": "execute_result"
    }
   ],
   "source": [
    "model.fit(img_train, label_train, epochs = 10, \n",
    "          validation_data = (img_test, label_test))"
   ]
  },
  {
   "cell_type": "code",
   "execution_count": 27,
   "metadata": {},
   "outputs": [],
   "source": [
    "# my_dir/intro_to_kt 디렉토리에는 하이퍼 파라미터 검색 중에 실행 된 \n",
    "# 모든 시험에 대한 자세한 로드와 체크 포인트가 포함되어 있음"
   ]
  },
  {
   "cell_type": "code",
   "execution_count": 28,
   "metadata": {},
   "outputs": [],
   "source": [
    "# 하이퍼 파라미터 검색을 다시 실행하면 keras tuner는 \n",
    "# 이러한 로그의 기존 상태를 사용하여 검색을 재개 함\n",
    "\n",
    "# 이 동작을 비활성화 하려면 인스턴스화 과정에서 overwrite=True 인수를 전달"
   ]
  }
 ],
 "metadata": {
  "kernelspec": {
   "display_name": "Python 3",
   "language": "python",
   "name": "python3"
  },
  "language_info": {
   "codemirror_mode": {
    "name": "ipython",
    "version": 3
   },
   "file_extension": ".py",
   "mimetype": "text/x-python",
   "name": "python",
   "nbconvert_exporter": "python",
   "pygments_lexer": "ipython3",
   "version": "3.8.3"
  }
 },
 "nbformat": 4,
 "nbformat_minor": 4
}
